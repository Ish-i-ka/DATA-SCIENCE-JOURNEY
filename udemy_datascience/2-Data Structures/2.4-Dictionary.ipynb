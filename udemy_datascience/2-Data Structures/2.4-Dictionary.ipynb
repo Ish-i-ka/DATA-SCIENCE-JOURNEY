{
 "cells": [
  {
   "cell_type": "code",
   "execution_count": 13,
   "metadata": {},
   "outputs": [
    {
     "name": "stdout",
     "output_type": "stream",
     "text": [
      "<class 'set'>\n"
     ]
    }
   ],
   "source": [
    "set1 = set()\n",
    "print(type(set1))"
   ]
  },
  {
   "cell_type": "code",
   "execution_count": 12,
   "metadata": {},
   "outputs": [
    {
     "name": "stdout",
     "output_type": "stream",
     "text": [
      "<class 'dict'>\n"
     ]
    }
   ],
   "source": [
    "empty_dict = {}\n",
    "print(type(empty_dict))"
   ]
  },
  {
   "cell_type": "code",
   "execution_count": 14,
   "metadata": {},
   "outputs": [
    {
     "name": "stdout",
     "output_type": "stream",
     "text": [
      "<class 'dict'>\n"
     ]
    }
   ],
   "source": [
    "empty_dict = dict()\n",
    "print(type(empty_dict))"
   ]
  },
  {
   "cell_type": "code",
   "execution_count": 16,
   "metadata": {},
   "outputs": [
    {
     "data": {
      "text/plain": [
       "{19: 'Bibek Dhara', 20: 'Biswajit Sow', 31: 'Ishika Saha'}"
      ]
     },
     "execution_count": 16,
     "metadata": {},
     "output_type": "execute_result"
    }
   ],
   "source": [
    "student = {19:\"Bibek Dhara\", 20:\"Biswajit Sow\", 31: \"Ishika Saha\"}\n",
    "student"
   ]
  },
  {
   "cell_type": "code",
   "execution_count": 19,
   "metadata": {},
   "outputs": [
    {
     "name": "stdout",
     "output_type": "stream",
     "text": [
      "Ishika Saha\n",
      "Ishika Saha\n",
      "None\n",
      "Not available\n"
     ]
    }
   ],
   "source": [
    "print(student[31])\n",
    "\n",
    "print(student.get(31))\n",
    "print(student.get('31'))\n",
    "print(student.get('31','Not available'))"
   ]
  },
  {
   "cell_type": "code",
   "execution_count": 21,
   "metadata": {},
   "outputs": [
    {
     "name": "stdout",
     "output_type": "stream",
     "text": [
      "{19: 'Bibek Dhara', 20: 'Biswajit Sow', 31: 'Priya roy', 42: 'Ishika saha'}\n"
     ]
    }
   ],
   "source": [
    " # Dictionaries are mutable\n",
    " \n",
    " student[31]='Priya roy'\n",
    " student[42]='Ishika saha'\n",
    " print(student)"
   ]
  },
  {
   "cell_type": "code",
   "execution_count": 22,
   "metadata": {},
   "outputs": [
    {
     "data": {
      "text/plain": [
       "{19: 'Bibek Dhara', 31: 'Priya roy', 42: 'Ishika saha'}"
      ]
     },
     "execution_count": 22,
     "metadata": {},
     "output_type": "execute_result"
    }
   ],
   "source": [
    "del student[20]\n",
    "student"
   ]
  },
  {
   "cell_type": "code",
   "execution_count": 24,
   "metadata": {},
   "outputs": [
    {
     "name": "stdout",
     "output_type": "stream",
     "text": [
      "dict_keys([19, 31, 42])\n",
      "dict_values(['Bibek Dhara', 'Priya roy', 'Ishika saha'])\n",
      "dict_items([(19, 'Bibek Dhara'), (31, 'Priya roy'), (42, 'Ishika saha')])\n"
     ]
    }
   ],
   "source": [
    "keys = student.keys()\n",
    "print(keys)\n",
    "\n",
    "values = student.values()\n",
    "print(values)\n",
    "\n",
    "items = student.items()\n",
    "print(items)"
   ]
  },
  {
   "cell_type": "code",
   "execution_count": 25,
   "metadata": {},
   "outputs": [
    {
     "name": "stdout",
     "output_type": "stream",
     "text": [
      "{19: 'Bibek Dhara', 31: 'Priya roy', 42: 'Ishika saha'}\n"
     ]
    }
   ],
   "source": [
    "student1 = student\n",
    "print(student1)"
   ]
  },
  {
   "cell_type": "code",
   "execution_count": 26,
   "metadata": {},
   "outputs": [
    {
     "data": {
      "text/plain": [
       "{19: 'Bibek Dhara', 31: 'Priya roy', 42: 'Ishika saha', 20: 'Biswajit'}"
      ]
     },
     "execution_count": 26,
     "metadata": {},
     "output_type": "execute_result"
    }
   ],
   "source": [
    "student[20]=\"Biswajit\"   # this update is also made in its copy\n",
    "student1"
   ]
  },
  {
   "cell_type": "code",
   "execution_count": 28,
   "metadata": {},
   "outputs": [
    {
     "data": {
      "text/plain": [
       "{19: 'Bibek Dhara', 31: 'Priya roy', 42: 'Ishika saha', 20: 'Biswajit'}"
      ]
     },
     "execution_count": 28,
     "metadata": {},
     "output_type": "execute_result"
    }
   ],
   "source": [
    "# shallow copy\n",
    "\n",
    "student2 = student.copy()\n",
    "student2"
   ]
  },
  {
   "cell_type": "code",
   "execution_count": 31,
   "metadata": {},
   "outputs": [
    {
     "name": "stdout",
     "output_type": "stream",
     "text": [
      "{19: 'Bibek Dhara', 31: 'Riya', 42: 'Ishika saha', 20: 'Biswajit'}\n",
      "{19: 'Bibek Dhara', 31: 'Priya roy', 42: 'Ishika saha', 20: 'Biswajit'}\n"
     ]
    }
   ],
   "source": [
    "student[31] ='Riya'\n",
    "print(student1)\n",
    "print(student2)"
   ]
  },
  {
   "cell_type": "code",
   "execution_count": 32,
   "metadata": {},
   "outputs": [
    {
     "name": "stdout",
     "output_type": "stream",
     "text": [
      "19\n",
      "31\n",
      "42\n",
      "20\n"
     ]
    }
   ],
   "source": [
    "for keys in student.keys():\n",
    "    print(keys)"
   ]
  },
  {
   "cell_type": "code",
   "execution_count": 33,
   "metadata": {},
   "outputs": [
    {
     "name": "stdout",
     "output_type": "stream",
     "text": [
      "Bibek Dhara\n",
      "Riya\n",
      "Ishika saha\n",
      "Biswajit\n"
     ]
    }
   ],
   "source": [
    "for values in student.values():\n",
    "    print(values)"
   ]
  },
  {
   "cell_type": "code",
   "execution_count": 34,
   "metadata": {},
   "outputs": [
    {
     "name": "stdout",
     "output_type": "stream",
     "text": [
      "19:Bibek Dhara\n",
      "31:Riya\n",
      "42:Ishika saha\n",
      "20:Biswajit\n"
     ]
    }
   ],
   "source": [
    "for key,value in student.items():\n",
    "    print(f\"{key}:{value}\")"
   ]
  },
  {
   "cell_type": "code",
   "execution_count": 40,
   "metadata": {},
   "outputs": [
    {
     "name": "stdout",
     "output_type": "stream",
     "text": [
      "Bibek Dhara\n",
      "603\n"
     ]
    }
   ],
   "source": [
    "# Nested dictionaries\n",
    "\n",
    "students = {\"names\":{19: 'Bibek Dhara', 31: 'Priya roy', 42: 'Ishika saha'},\n",
    "            \"marks\":{19: '603', 31: '590', 42: '620'}}\n",
    "\n",
    "print(students[\"names\"][19])\n",
    "print(students[\"marks\"][19])\n"
   ]
  },
  {
   "cell_type": "code",
   "execution_count": 41,
   "metadata": {},
   "outputs": [
    {
     "data": {
      "text/plain": [
       "dict_items([('names', {19: 'Bibek Dhara', 31: 'Priya roy', 42: 'Ishika saha'}), ('marks', {19: '603', 31: '590', 42: '620'})])"
      ]
     },
     "execution_count": 41,
     "metadata": {},
     "output_type": "execute_result"
    }
   ],
   "source": [
    "students.items()"
   ]
  },
  {
   "cell_type": "code",
   "execution_count": 45,
   "metadata": {},
   "outputs": [
    {
     "name": "stdout",
     "output_type": "stream",
     "text": [
      "names:{19: 'Bibek Dhara', 31: 'Priya roy', 42: 'Ishika saha'}\n",
      "19:Bibek Dhara\n",
      "31:Priya roy\n",
      "42:Ishika saha\n",
      "marks:{19: '603', 31: '590', 42: '620'}\n",
      "19:603\n",
      "31:590\n",
      "42:620\n"
     ]
    }
   ],
   "source": [
    "for name,info in students.items():\n",
    "    print(f\"{name}:{info}\")\n",
    "    for key,val in info.items():\n",
    "        print(f\"{key}:{val}\")"
   ]
  },
  {
   "cell_type": "code",
   "execution_count": 46,
   "metadata": {},
   "outputs": [
    {
     "data": {
      "text/plain": [
       "{0: 0, 1: 1, 2: 4, 3: 9, 4: 16, 5: 25, 6: 36, 7: 49, 8: 64, 9: 81}"
      ]
     },
     "execution_count": 46,
     "metadata": {},
     "output_type": "execute_result"
    }
   ],
   "source": [
    "#Dictionary comprehension\n",
    "\n",
    "squares = {x:x**2 for x in range(10)}\n",
    "squares"
   ]
  },
  {
   "cell_type": "code",
   "execution_count": 47,
   "metadata": {},
   "outputs": [
    {
     "data": {
      "text/plain": [
       "{0: 0, 3: 9, 6: 36, 9: 81}"
      ]
     },
     "execution_count": 47,
     "metadata": {},
     "output_type": "execute_result"
    }
   ],
   "source": [
    "# Conditional Dictionary comprehension\n",
    "\n",
    "square = {x:x**2 for x in range(10) if x%3==0}\n",
    "square"
   ]
  },
  {
   "cell_type": "code",
   "execution_count": 48,
   "metadata": {},
   "outputs": [
    {
     "data": {
      "text/plain": [
       "{1: 1, 2: 2, 3: 4, 4: 4}"
      ]
     },
     "execution_count": 48,
     "metadata": {},
     "output_type": "execute_result"
    }
   ],
   "source": [
    "# counting frequency of elements in list\n",
    "\n",
    "numbers = [1,2,2,3,3,3,3,4,4,4,4]\n",
    "frequency = {}\n",
    "\n",
    "for number in numbers:\n",
    "    if number in frequency:\n",
    "        frequency[number] += 1\n",
    "    else:\n",
    "        frequency[number] = 1\n",
    "frequency"
   ]
  },
  {
   "cell_type": "code",
   "execution_count": 56,
   "metadata": {},
   "outputs": [
    {
     "name": "stdout",
     "output_type": "stream",
     "text": [
      "({'a': 1, 'b': 2}, {'b': 3, 'c': 4})\n",
      "{'a': 1, 'b': 3, 'c': 4}\n"
     ]
    }
   ],
   "source": [
    "#merging 2 dictionaries\n",
    "\n",
    "dict1 = {\"a\":1,\"b\":2}\n",
    "dict2 = {\"b\":3,\"c\":4}\n",
    "merged = (dict1,dict2)\n",
    "print(merged)\n",
    "merged_dict = {**dict1,**dict2} # merges all unique values and duplicate ones only once\n",
    "print(merged_dict)"
   ]
  }
 ],
 "metadata": {
  "kernelspec": {
   "display_name": "venv",
   "language": "python",
   "name": "python3"
  },
  "language_info": {
   "codemirror_mode": {
    "name": "ipython",
    "version": 3
   },
   "file_extension": ".py",
   "mimetype": "text/x-python",
   "name": "python",
   "nbconvert_exporter": "python",
   "pygments_lexer": "ipython3",
   "version": "3.12.0"
  }
 },
 "nbformat": 4,
 "nbformat_minor": 2
}
