{
 "cells": [
  {
   "cell_type": "markdown",
   "metadata": {},
   "source": [
    "## Common exceptions are:\n",
    "\n",
    "ZeroDivisionError:Dividing by 0\n",
    "\n",
    "FileNotFoundError:File not found\n",
    "\n",
    "ValueError:Invalid value\n",
    "\n",
    "TypeError:Invalid type\n",
    "\n",
    "NameError: Invalid name"
   ]
  },
  {
   "cell_type": "code",
   "execution_count": 1,
   "metadata": {},
   "outputs": [
    {
     "name": "stdout",
     "output_type": "stream",
     "text": [
      "The variable has not been assigned\n"
     ]
    }
   ],
   "source": [
    "try:\n",
    "    a = b\n",
    "except:\n",
    "    print(\"The variable has not been assigned\")\n",
    "    "
   ]
  },
  {
   "cell_type": "code",
   "execution_count": 2,
   "metadata": {},
   "outputs": [
    {
     "name": "stdout",
     "output_type": "stream",
     "text": [
      "name 'b' is not defined\n"
     ]
    }
   ],
   "source": [
    "try:\n",
    "    a = b\n",
    "except NameError as ex:\n",
    "    print(ex)\n",
    "    "
   ]
  },
  {
   "cell_type": "code",
   "execution_count": 4,
   "metadata": {},
   "outputs": [
    {
     "name": "stdout",
     "output_type": "stream",
     "text": [
      "division by zero\n",
      "Please enter denomenator a non zero value\n"
     ]
    }
   ],
   "source": [
    "try:\n",
    "    res = 12/0\n",
    "except ZeroDivisionError as ex:\n",
    "    print(ex)\n",
    "    print(\"Please enter denomenator a non zero value\")"
   ]
  },
  {
   "cell_type": "code",
   "execution_count": 9,
   "metadata": {},
   "outputs": [
    {
     "name": "stdout",
     "output_type": "stream",
     "text": [
      "division by zero\n",
      "Any error can be handled\n"
     ]
    }
   ],
   "source": [
    "try:\n",
    "    res = 12/0\n",
    "    a = b\n",
    "'''except ZeroDivisionError as ex:\n",
    "    print(ex)\n",
    "    print(\"Please enter denomenator a non zero value\")'''\n",
    "except Exception as ex1:   # whatever error is came across at first that is only handled by this Exception class\n",
    "    print(ex1)\n",
    "    print(\"Any error can be handled\")"
   ]
  },
  {
   "cell_type": "code",
   "execution_count": 13,
   "metadata": {},
   "outputs": [
    {
     "name": "stdout",
     "output_type": "stream",
     "text": [
      "This is not valid number\n"
     ]
    }
   ],
   "source": [
    "try:\n",
    "    num = int(input(\"Enter a number:\"))\n",
    "    res = 10/num\n",
    "except ValueError:\n",
    "    print(\"This is not valid number\")\n",
    "except ZeroDivisionError:\n",
    "    print(\"Enter a non zero denominator\")\n",
    "except Exception as ex:\n",
    "    print(ex)"
   ]
  },
  {
   "cell_type": "code",
   "execution_count": 17,
   "metadata": {},
   "outputs": [
    {
     "name": "stdout",
     "output_type": "stream",
     "text": [
      "The result is 0.45454545454545453\n"
     ]
    }
   ],
   "source": [
    "# try,excep,else block\n",
    "\n",
    "try:\n",
    "    num = int(input(\"Enter a number:\"))\n",
    "    res = 10/num\n",
    "except ValueError:\n",
    "    print(\"This is not valid number\")\n",
    "except ZeroDivisionError:\n",
    "    print(\"Enter a non zero denominator\")\n",
    "except Exception as ex:\n",
    "    print(ex)\n",
    "else:       # this else block is executed when there is no exception or error\n",
    "    print(f\"The result is {res}\")   "
   ]
  },
  {
   "cell_type": "code",
   "execution_count": 20,
   "metadata": {},
   "outputs": [
    {
     "name": "stdout",
     "output_type": "stream",
     "text": [
      "Enter a non zero denominator\n",
      "Execution complete\n"
     ]
    }
   ],
   "source": [
    "# try,except,else,finally\n",
    "\n",
    "try:\n",
    "    num = int(input(\"Enter a number:\"))\n",
    "    res = 10/num\n",
    "except ValueError:\n",
    "    print(\"This is not valid number\")\n",
    "except ZeroDivisionError:\n",
    "    print(\"Enter a non zero denominator\")\n",
    "except Exception as ex:\n",
    "    print(ex)\n",
    "else:       \n",
    "    print(f\"The result is {res}\")  \n",
    "finally:\n",
    "    print(\"Execution complete\")"
   ]
  },
  {
   "cell_type": "code",
   "execution_count": 26,
   "metadata": {},
   "outputs": [
    {
     "name": "stdout",
     "output_type": "stream",
     "text": [
      "\n",
      "File closed\n"
     ]
    }
   ],
   "source": [
    "#file handling and exception handling\n",
    "\n",
    "try:\n",
    "    file = open('example.txt','r')\n",
    "    content = file.read()\n",
    "   # a=b\n",
    "    print(content)\n",
    "except FileNotFoundError:\n",
    "    print(\"The file does not exists\")\n",
    "except Exception as ex:\n",
    "    print(ex)\n",
    "finally:\n",
    "    if 'file' in locals() or not file.closed():\n",
    "        file.close()\n",
    "        print(\"File closed\")"
   ]
  },
  {
   "cell_type": "code",
   "execution_count": null,
   "metadata": {},
   "outputs": [],
   "source": []
  },
  {
   "cell_type": "code",
   "execution_count": null,
   "metadata": {},
   "outputs": [],
   "source": []
  },
  {
   "cell_type": "code",
   "execution_count": null,
   "metadata": {},
   "outputs": [],
   "source": []
  },
  {
   "cell_type": "code",
   "execution_count": null,
   "metadata": {},
   "outputs": [],
   "source": []
  }
 ],
 "metadata": {
  "kernelspec": {
   "display_name": "venv",
   "language": "python",
   "name": "python3"
  },
  "language_info": {
   "codemirror_mode": {
    "name": "ipython",
    "version": 3
   },
   "file_extension": ".py",
   "mimetype": "text/x-python",
   "name": "python",
   "nbconvert_exporter": "python",
   "pygments_lexer": "ipython3",
   "version": "3.12.7"
  }
 },
 "nbformat": 4,
 "nbformat_minor": 2
}
