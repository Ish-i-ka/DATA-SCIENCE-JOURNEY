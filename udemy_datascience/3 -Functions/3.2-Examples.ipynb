{
 "cells": [
  {
   "cell_type": "code",
   "execution_count": 10,
   "metadata": {},
   "outputs": [
    {
     "name": "stdout",
     "output_type": "stream",
     "text": [
      "77.0\n"
     ]
    }
   ],
   "source": [
    "# temperature conversion\n",
    "\n",
    "def temp_convert(temp,unit):\n",
    "    if unit == 'C':\n",
    "        return float(temp) * 9/5 + 32\n",
    "    elif unit == \"F\":\n",
    "        return (float(temp)-32) + 5/9\n",
    "    else:\n",
    "        return None\n",
    "\n",
    "temp = input(\"Enter temperature(in format 25C/ 25F):\")\n",
    "\n",
    "print(temp_convert(temp[:-1],temp[-1]))\n"
   ]
  },
  {
   "cell_type": "code",
   "execution_count": 2,
   "metadata": {},
   "outputs": [
    {
     "name": "stdout",
     "output_type": "stream",
     "text": [
      "Valid Password\n"
     ]
    }
   ],
   "source": [
    "# Password strength checker\n",
    "\n",
    "def strong_pas(password):\n",
    "    if len(password) < 8:\n",
    "        return False\n",
    "    elif not any(char.isdigit() for char in password):\n",
    "        return False\n",
    "    elif not any(char.islower() for char in password):\n",
    "        return False\n",
    "    elif not any(char.isupper() for char in password):\n",
    "        return False\n",
    "    elif not any(char in '!@#$%^&*()_+' for char in password):\n",
    "        return False\n",
    "    else:\n",
    "        return True\n",
    "    \n",
    "#Function calling\n",
    "if strong_pas(\"Ishika@21\") == True:\n",
    "    print(\"Valid Password\")\n",
    "else:\n",
    "    print(\"Invalid password\")"
   ]
  },
  {
   "cell_type": "code",
   "execution_count": 5,
   "metadata": {},
   "outputs": [
    {
     "name": "stdout",
     "output_type": "stream",
     "text": [
      "The total expense: 270\n"
     ]
    }
   ],
   "source": [
    "# Calculate total cost of items in cart\n",
    "def expenses(cart):\n",
    "    cost = 0\n",
    "    for item in cart:\n",
    "        cost += item['Price']*item['Quantity']\n",
    "    return cost \n",
    "\n",
    "cart = [{'name':'Biscuit','Price':10,'Quantity':4},\n",
    "        {'name':'Cake','Price':25,'Quantity':5},\n",
    "        {'name':'Chowmin','Price':35,'Quantity':3}] \n",
    "#function calling\n",
    "print(f'The total expense: {expenses(cart)}')"
   ]
  },
  {
   "cell_type": "code",
   "execution_count": 3,
   "metadata": {},
   "outputs": [
    {
     "name": "stdout",
     "output_type": "stream",
     "text": [
      "A man a plan a canal Panama\n"
     ]
    },
    {
     "data": {
      "text/plain": [
       "True"
      ]
     },
     "execution_count": 3,
     "metadata": {},
     "output_type": "execute_result"
    }
   ],
   "source": [
    "# check string is palindrome or not\n",
    "\n",
    "def is_palindrome(string):\n",
    "    string = string.lower().replace(' ','')\n",
    "    return string == string[::-1]\n",
    "\n",
    "s = input(\"Enter a string:\")\n",
    "print(s)\n",
    "is_palindrome(s)"
   ]
  },
  {
   "cell_type": "code",
   "execution_count": 4,
   "metadata": {},
   "outputs": [
    {
     "data": {
      "text/plain": [
       "5040"
      ]
     },
     "execution_count": 4,
     "metadata": {},
     "output_type": "execute_result"
    }
   ],
   "source": [
    "# factorial using recursion\n",
    "\n",
    "def factorial(n):\n",
    "    if n == 0:\n",
    "        return 1\n",
    "    else:\n",
    "        return n * factorial(n-1)\n",
    "\n",
    "factorial(7)"
   ]
  },
  {
   "cell_type": "code",
   "execution_count": 5,
   "metadata": {},
   "outputs": [
    {
     "name": "stdout",
     "output_type": "stream",
     "text": [
      "{'hello': 1, 'welcome': 2, 'to': 1, 'the': 1, 'world': 1, 'of': 1, 'python': 1, 'ms': 1, 'ishika': 1, 'saha': 1}\n"
     ]
    }
   ],
   "source": [
    "# Function to read a file and count frequency of each word\n",
    "\n",
    "def frequency(file_path):\n",
    "    count = {}\n",
    "    with open(file_path,'r') as file:\n",
    "        for line in file:\n",
    "            words = line.split()\n",
    "            for word in words:\n",
    "                word = word.lower().strip('.,!?;:\"\\'')\n",
    "                count[word] = count.get(word,0) + 1\n",
    "    return count\n",
    "\n",
    "print(frequency('sample.txt'))"
   ]
  },
  {
   "cell_type": "code",
   "execution_count": 12,
   "metadata": {},
   "outputs": [
    {
     "name": "stdout",
     "output_type": "stream",
     "text": [
      "Valid Email\n",
      "Invalid Email\n"
     ]
    }
   ],
   "source": [
    "# Validate email address\n",
    "\n",
    "import re\n",
    "def is_valid_email(email):\n",
    "    pattern = r'^[a-zA-Z0-9_.+-]+@[a-zA-Z0-9-]+\\.[a-zA-Z0-9-]'\n",
    "    if re.match(pattern,email):\n",
    "        return \"Valid Email\"\n",
    "    else:\n",
    "        return \"Invalid Email\"\n",
    "    \n",
    "print(is_valid_email('Ishika.saha21july@gmail.com'))\n",
    "print(is_valid_email('Ishika.saha21july.com'))"
   ]
  },
  {
   "cell_type": "code",
   "execution_count": null,
   "metadata": {},
   "outputs": [],
   "source": []
  }
 ],
 "metadata": {
  "kernelspec": {
   "display_name": "venv",
   "language": "python",
   "name": "python3"
  },
  "language_info": {
   "codemirror_mode": {
    "name": "ipython",
    "version": 3
   },
   "file_extension": ".py",
   "mimetype": "text/x-python",
   "name": "python",
   "nbconvert_exporter": "python",
   "pygments_lexer": "ipython3",
   "version": "3.12.0"
  }
 },
 "nbformat": 4,
 "nbformat_minor": 2
}
