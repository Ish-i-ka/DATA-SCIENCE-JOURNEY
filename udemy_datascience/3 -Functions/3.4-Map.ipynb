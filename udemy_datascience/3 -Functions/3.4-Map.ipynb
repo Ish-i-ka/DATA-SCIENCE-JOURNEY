{
 "cells": [
  {
   "cell_type": "code",
   "execution_count": 16,
   "metadata": {},
   "outputs": [
    {
     "data": {
      "text/plain": [
       "'Odd'"
      ]
     },
     "execution_count": 16,
     "metadata": {},
     "output_type": "execute_result"
    }
   ],
   "source": [
    "def is_even(num):\n",
    "    if num%2 == 0:\n",
    "        return 'even'\n",
    "    else :\n",
    "        return \"Odd\"\n",
    "\n",
    "is_even(13)"
   ]
  },
  {
   "cell_type": "code",
   "execution_count": 22,
   "metadata": {},
   "outputs": [
    {
     "name": "stdout",
     "output_type": "stream",
     "text": [
      "['even', 'Odd', 'even', 'Odd', 'even']\n",
      "['Odd', 'even', 'Odd', 'even']\n"
     ]
    }
   ],
   "source": [
    "# with map()\n",
    "\n",
    "values = (6,7,8,9,10)\n",
    "dict = {'A':25,'B':26,'C':89,'D':14}\n",
    "print(list(map(is_even,values)))\n",
    "res = map(is_even,dict.values())\n",
    "print(list(res))"
   ]
  },
  {
   "cell_type": "code",
   "execution_count": 24,
   "metadata": {},
   "outputs": [
    {
     "name": "stdout",
     "output_type": "stream",
     "text": [
      "[False, True, False, True]\n"
     ]
    }
   ],
   "source": [
    "# lambda with map()\n",
    "\n",
    "result = map(lambda x:x%2 == 0,dict.values())\n",
    "print(list(result))"
   ]
  },
  {
   "cell_type": "code",
   "execution_count": 26,
   "metadata": {},
   "outputs": [
    {
     "name": "stdout",
     "output_type": "stream",
     "text": [
      "[26, 28, 92, 18]\n"
     ]
    }
   ],
   "source": [
    "#map() with multiple iterables\n",
    "\n",
    "values1 = (1,2,3,4)\n",
    "dict = {'A':25,'B':26,'C':89,'D':14}\n",
    "added_numbers = map(lambda x,y:x+y,values1,dict.values())\n",
    "print(list(added_numbers))"
   ]
  },
  {
   "cell_type": "code",
   "execution_count": 28,
   "metadata": {},
   "outputs": [
    {
     "data": {
      "text/plain": [
       "[97, 65, 98, 66, 99, 67]"
      ]
     },
     "execution_count": 28,
     "metadata": {},
     "output_type": "execute_result"
    }
   ],
   "source": [
    "# convert list of strings to integers\n",
    "\n",
    "str1 = ['a','A','b','B','c','C']\n",
    "list(map(lambda x:ord(x),str1))\n"
   ]
  },
  {
   "cell_type": "code",
   "execution_count": 35,
   "metadata": {},
   "outputs": [
    {
     "data": {
      "text/plain": [
       "[1, 2, 3, 4, 5, 6]"
      ]
     },
     "execution_count": 35,
     "metadata": {},
     "output_type": "execute_result"
    }
   ],
   "source": [
    "#alternate\n",
    "\n",
    "str2 = ['1','2','3','4','5','6']\n",
    "list(map(int,str2))\n"
   ]
  },
  {
   "cell_type": "code",
   "execution_count": 36,
   "metadata": {},
   "outputs": [
    {
     "name": "stdout",
     "output_type": "stream",
     "text": [
      "['APPLE', 'BANANA', 'CHERRY']\n"
     ]
    }
   ],
   "source": [
    "# turn list of strings into uppercase strings\n",
    "\n",
    "words = ['Apple','banana','CHerry']\n",
    "upper_case = list(map(str.upper,words))\n",
    "print(upper_case)"
   ]
  },
  {
   "cell_type": "code",
   "execution_count": 38,
   "metadata": {},
   "outputs": [
    {
     "data": {
      "text/plain": [
       "['Ishika', 'Sonu']"
      ]
     },
     "execution_count": 38,
     "metadata": {},
     "output_type": "execute_result"
    }
   ],
   "source": [
    "def details(person):\n",
    "    return person['name']\n",
    "\n",
    "people = [{'name':'Ishika','age':20},{'name':'Sonu','age':22}]\n",
    "list(map(details,people))"
   ]
  },
  {
   "cell_type": "code",
   "execution_count": null,
   "metadata": {},
   "outputs": [],
   "source": []
  }
 ],
 "metadata": {
  "kernelspec": {
   "display_name": "venv",
   "language": "python",
   "name": "python3"
  },
  "language_info": {
   "codemirror_mode": {
    "name": "ipython",
    "version": 3
   },
   "file_extension": ".py",
   "mimetype": "text/x-python",
   "name": "python",
   "nbconvert_exporter": "python",
   "pygments_lexer": "ipython3",
   "version": "3.12.0"
  }
 },
 "nbformat": 4,
 "nbformat_minor": 2
}
