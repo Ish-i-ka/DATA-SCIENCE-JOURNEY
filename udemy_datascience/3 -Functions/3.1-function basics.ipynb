{
 "cells": [
  {
   "cell_type": "code",
   "execution_count": 4,
   "metadata": {},
   "outputs": [
    {
     "name": "stdout",
     "output_type": "stream",
     "text": [
      "Hello Ishika welcome to Python Programming\n",
      "Hello Guest welcome to Python Programming\n"
     ]
    }
   ],
   "source": [
    "# Default parameters\n",
    "def greetings(name = \"Guest\"):\n",
    "    print(f\"Hello {name} welcome to Python Programming\")\n",
    "greetings(\"Ishika\") \n",
    "greetings()"
   ]
  },
  {
   "cell_type": "code",
   "execution_count": 9,
   "metadata": {},
   "outputs": [
    {
     "name": "stdout",
     "output_type": "stream",
     "text": [
      "1\n",
      "2\n",
      "3\n",
      "7.8\n",
      "[1, 2, 3, 7.8]\n",
      "[5, 6, 8, 'hello']\n"
     ]
    }
   ],
   "source": [
    "# variable length arguments\n",
    "# Positional arguments\n",
    "\n",
    "def print_num(*args):\n",
    "    for number in args:\n",
    "        print(number)\n",
    "       \n",
    "\n",
    "print_num(1,2,3,7.8)\n",
    "print_num([1,2,3,7.8],[5,6,8,'hello'])"
   ]
  },
  {
   "cell_type": "code",
   "execution_count": 10,
   "metadata": {},
   "outputs": [
    {
     "name": "stdout",
     "output_type": "stream",
     "text": [
      "name:Ishika\n",
      "age:20\n",
      "height:167\n"
     ]
    }
   ],
   "source": [
    "# Keywords arguments\n",
    "\n",
    "def print_details(**kwargs):\n",
    "    for key,val in kwargs.items():\n",
    "        print(f\"{key}:{val}\")\n",
    "print_details(name=\"Ishika\",age=\"20\",height=\"167\")"
   ]
  },
  {
   "cell_type": "code",
   "execution_count": 12,
   "metadata": {},
   "outputs": [
    {
     "name": "stdout",
     "output_type": "stream",
     "text": [
      "Positional argument:1\n",
      "Positional argument:2\n",
      "Positional argument:3\n",
      "Positional argument:4\n",
      "Positional argument:5\n",
      "name:Ishika\n",
      "age:20\n",
      "height:167\n"
     ]
    }
   ],
   "source": [
    "# Positional Keywords arguments\n",
    "\n",
    "def print_details(*args,**kwargs):\n",
    "    for number in args:\n",
    "        print(f\"Positional argument:{number}\")\n",
    "    for key,val in kwargs.items():\n",
    "        print(f\"{key}:{val}\")\n",
    "print_details(1,2,3,4,5,name=\"Ishika\",age=\"20\",height=\"167\")"
   ]
  },
  {
   "cell_type": "code",
   "execution_count": 16,
   "metadata": {},
   "outputs": [
    {
     "data": {
      "text/plain": [
       "-8"
      ]
     },
     "execution_count": 16,
     "metadata": {},
     "output_type": "execute_result"
    }
   ],
   "source": [
    "def product(a,b):\n",
    "    if a!=0 and b!=0:\n",
    "        return a*b\n",
    "    else:\n",
    "        return 0\n",
    "\n",
    "x=int(input(\"Enter first number:\"))\n",
    "y=int(input(\"Enter second number:\"))\n",
    "product(x,y)"
   ]
  },
  {
   "cell_type": "code",
   "execution_count": null,
   "metadata": {},
   "outputs": [],
   "source": []
  }
 ],
 "metadata": {
  "kernelspec": {
   "display_name": "venv",
   "language": "python",
   "name": "python3"
  },
  "language_info": {
   "codemirror_mode": {
    "name": "ipython",
    "version": 3
   },
   "file_extension": ".py",
   "mimetype": "text/x-python",
   "name": "python",
   "nbconvert_exporter": "python",
   "pygments_lexer": "ipython3",
   "version": "3.12.0"
  }
 },
 "nbformat": 4,
 "nbformat_minor": 2
}
