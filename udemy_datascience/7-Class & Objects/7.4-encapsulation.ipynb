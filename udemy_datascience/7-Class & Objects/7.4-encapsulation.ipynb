{
 "cells": [
  {
   "cell_type": "code",
   "execution_count": 18,
   "metadata": {},
   "outputs": [
    {
     "name": "stdout",
     "output_type": "stream",
     "text": [
      "21 Graam\n"
     ]
    }
   ],
   "source": [
    "class Person:\n",
    "    def __init__(self,name,age,gender,address):\n",
    "        self.name = name        #public variable\n",
    "        self.age = age          # since they can be accessed by functions outside the class\n",
    "        self.__gender = gender  #private var which cant be accessed by outer methods    \n",
    "        self._address = address #protected var which can be accesed from derived class but not by any function outside parent class\n",
    "        \n",
    "#derived class using protected variable\n",
    "class Employee(Person):\n",
    "    def __init__(self, name, age, gender, address):\n",
    "        super().__init__(name, age, gender, address)\n",
    "        \n",
    "def get_name(person):\n",
    "    return person.name\n",
    "\n",
    "#Error as private var gender cant beaccessed\n",
    "'''def get_gender(person):\n",
    "    return person.__gender'''\n",
    "\n",
    "#Error as protected var cant be accesed here\n",
    "'''def get_address(person):\n",
    "    return person.address'''\n",
    "\n",
    "person = Person(\"Ishika\",20,\"Female\",\"Kolkata\")\n",
    "emp = Employee(\"Bibek Dhara\",21,'Male',\"Graam\")\n",
    "get_name(person)\n",
    "print(emp.age,emp._address)\n",
    "#get_gender(person)\n",
    "#get_address(person)\n",
    "    \n",
    "    "
   ]
  },
  {
   "cell_type": "code",
   "execution_count": 15,
   "metadata": {},
   "outputs": [
    {
     "data": {
      "text/plain": [
       "['_Person__gender',\n",
       " '__class__',\n",
       " '__delattr__',\n",
       " '__dict__',\n",
       " '__dir__',\n",
       " '__doc__',\n",
       " '__eq__',\n",
       " '__format__',\n",
       " '__ge__',\n",
       " '__getattribute__',\n",
       " '__getstate__',\n",
       " '__gt__',\n",
       " '__hash__',\n",
       " '__init__',\n",
       " '__init_subclass__',\n",
       " '__le__',\n",
       " '__lt__',\n",
       " '__module__',\n",
       " '__ne__',\n",
       " '__new__',\n",
       " '__reduce__',\n",
       " '__reduce_ex__',\n",
       " '__repr__',\n",
       " '__setattr__',\n",
       " '__sizeof__',\n",
       " '__str__',\n",
       " '__subclasshook__',\n",
       " '__weakref__',\n",
       " '_address',\n",
       " 'age',\n",
       " 'name']"
      ]
     },
     "execution_count": 15,
     "metadata": {},
     "output_type": "execute_result"
    }
   ],
   "source": [
    "dir(person)  #lists all the methods and attributes of class Person"
   ]
  },
  {
   "cell_type": "code",
   "execution_count": 24,
   "metadata": {},
   "outputs": [
    {
     "name": "stdout",
     "output_type": "stream",
     "text": [
      "Ishika 20\n",
      "21\n",
      "Rishi\n",
      "Age cant be negative!\n"
     ]
    }
   ],
   "source": [
    "#Getter and Setter methods\n",
    "\n",
    "class Person:\n",
    "    def __init__(self,name,age):\n",
    "        self.__name = name\n",
    "        self.__age = age        #private variables\n",
    "        \n",
    "    #getter method \n",
    "    def get_name(self):\n",
    "        return self.__name\n",
    "    \n",
    "    #setter method\n",
    "    def set_name(self,name):\n",
    "        self.__name = name\n",
    "        print(name)\n",
    "    \n",
    "    def get_age(self):\n",
    "        return self.__age\n",
    "    \n",
    "    def set_age(self,age):\n",
    "        if age > 0:\n",
    "            self.__age = age\n",
    "            print(age)\n",
    "        else:\n",
    "            print(\"Age cant be negative!\")\n",
    "            \n",
    "# objects\n",
    "person = Person(\"Ishika\",20)\n",
    "\n",
    "# Access and modify private variables using getter and setter methods\n",
    "print(person.get_name(),person.get_age())\n",
    "person.set_age(21)\n",
    "person.set_name(\"Rishi\")\n",
    "person.set_age(-21)"
   ]
  },
  {
   "cell_type": "code",
   "execution_count": null,
   "metadata": {},
   "outputs": [],
   "source": []
  },
  {
   "cell_type": "code",
   "execution_count": null,
   "metadata": {},
   "outputs": [],
   "source": []
  },
  {
   "cell_type": "code",
   "execution_count": null,
   "metadata": {},
   "outputs": [],
   "source": []
  }
 ],
 "metadata": {
  "kernelspec": {
   "display_name": "venv",
   "language": "python",
   "name": "python3"
  },
  "language_info": {
   "codemirror_mode": {
    "name": "ipython",
    "version": 3
   },
   "file_extension": ".py",
   "mimetype": "text/x-python",
   "name": "python",
   "nbconvert_exporter": "python",
   "pygments_lexer": "ipython3",
   "version": "3.12.7"
  }
 },
 "nbformat": 4,
 "nbformat_minor": 2
}
