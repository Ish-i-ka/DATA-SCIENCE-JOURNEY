{
 "cells": [
  {
   "cell_type": "code",
   "execution_count": 8,
   "metadata": {},
   "outputs": [
    {
     "name": "stdout",
     "output_type": "stream",
     "text": [
      "<__main__.Dog object at 0x000001FB27D26A20>\n",
      "Buddy\n",
      "3\n"
     ]
    }
   ],
   "source": [
    "# Instance Variable\n",
    "\n",
    "class Dog:\n",
    "    # constructor\n",
    "    def __init__(self,name,age):\n",
    "        # name, age are attributes of Dog class\n",
    "        self.name=name\n",
    "        self.age=age\n",
    "\n",
    "#create objects\n",
    "dog1=Dog(\"Buddy\",3)\n",
    "dog2=Dog(\"Lucky\",5)\n",
    "\n",
    "print(dog1)\n",
    "print(dog1.name)\n",
    "print(dog1.age)"
   ]
  },
  {
   "cell_type": "code",
   "execution_count": 7,
   "metadata": {},
   "outputs": [
    {
     "name": "stdout",
     "output_type": "stream",
     "text": [
      "<__main__.Dog object at 0x000001FB27BB6990>\n",
      "Lucky\n",
      "5\n"
     ]
    }
   ],
   "source": [
    "print(dog2)\n",
    "print(dog2.name)\n",
    "print(dog2.age)"
   ]
  },
  {
   "cell_type": "code",
   "execution_count": 9,
   "metadata": {},
   "outputs": [
    {
     "data": {
      "text/plain": [
       "['__class__',\n",
       " '__delattr__',\n",
       " '__dict__',\n",
       " '__dir__',\n",
       " '__doc__',\n",
       " '__eq__',\n",
       " '__format__',\n",
       " '__ge__',\n",
       " '__getattribute__',\n",
       " '__getstate__',\n",
       " '__gt__',\n",
       " '__hash__',\n",
       " '__init__',\n",
       " '__init_subclass__',\n",
       " '__le__',\n",
       " '__lt__',\n",
       " '__module__',\n",
       " '__ne__',\n",
       " '__new__',\n",
       " '__reduce__',\n",
       " '__reduce_ex__',\n",
       " '__repr__',\n",
       " '__setattr__',\n",
       " '__sizeof__',\n",
       " '__str__',\n",
       " '__subclasshook__',\n",
       " '__weakref__']"
      ]
     },
     "execution_count": 9,
     "metadata": {},
     "output_type": "execute_result"
    }
   ],
   "source": [
    "dir(Dog)"
   ]
  },
  {
   "cell_type": "code",
   "execution_count": 12,
   "metadata": {},
   "outputs": [
    {
     "name": "stdout",
     "output_type": "stream",
     "text": [
      "Lucy says woof\n"
     ]
    }
   ],
   "source": [
    "# Instance methods\n",
    "\n",
    "class Dog:\n",
    "    def __init__(self,name,age):\n",
    "        self.name=name\n",
    "        self.age=age\n",
    "    \n",
    "    #method creation or simply a function which is performed by Dog class\n",
    "    def bark(self):\n",
    "        print(f\"{self.name} says woof\") \n",
    "\n",
    "dog1=Dog(\"Lucy\",4)\n",
    "dog1.bark()"
   ]
  },
  {
   "cell_type": "code",
   "execution_count": 26,
   "metadata": {},
   "outputs": [
    {
     "name": "stdout",
     "output_type": "stream",
     "text": [
      "100\n",
      "100 is Your current balance.\n",
      "500 is deposited.\n",
      "Your current balance is 676\n",
      "76 is withdrawn.\n",
      "600 is your current balance\n",
      "120 cant be withdrawn as u have insufficient Funds!\n"
     ]
    }
   ],
   "source": [
    "# Modelling a bank account\n",
    "\n",
    "# class define\n",
    "\n",
    "class BankAccount:\n",
    "    def __init__(self,name,balance=0):\n",
    "        self.name=name\n",
    "        self.balance=balance\n",
    "\n",
    "    def deposit(self,amount):\n",
    "        self.balance += amount\n",
    "        print(f\"{amount} is deposited.\\nYour current balance is {self.balance}\")\n",
    "    \n",
    "    def withdraw(self,amount):\n",
    "        if amount>self.balance:\n",
    "            print(f\"{amount} cant be withdrawn as u have insufficient Funds!\")\n",
    "        else:\n",
    "            self.balance -= amount\n",
    "            print(f\"{amount} is withdrawn.\\n{self.balance} is your current balance\")\n",
    "    \n",
    "    def check_balance(self):\n",
    "        print(f\"{self.balance} is Your current balance.\")\n",
    "    \n",
    "# Objects\n",
    "Person1 = BankAccount(\"Ishika\",100)\n",
    "Person2 = BankAccount(\"Trina\",176)\n",
    "\n",
    "print(Person1.balance)  \n",
    "Person1.check_balance()    \n",
    "Person2.deposit(500)\n",
    "Person2.withdraw(76)\n",
    "Person1.withdraw(120)\n",
    "   \n",
    "    "
   ]
  }
 ],
 "metadata": {
  "kernelspec": {
   "display_name": "venv",
   "language": "python",
   "name": "python3"
  },
  "language_info": {
   "codemirror_mode": {
    "name": "ipython",
    "version": 3
   },
   "file_extension": ".py",
   "mimetype": "text/x-python",
   "name": "python",
   "nbconvert_exporter": "python",
   "pygments_lexer": "ipython3",
   "version": "3.12.7"
  }
 },
 "nbformat": 4,
 "nbformat_minor": 2
}
