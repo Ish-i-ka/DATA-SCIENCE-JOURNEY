{
 "cells": [
  {
   "cell_type": "code",
   "execution_count": 7,
   "metadata": {},
   "outputs": [
    {
     "name": "stdout",
     "output_type": "stream",
     "text": [
      "4\n",
      "The diesel car can be driven\n"
     ]
    }
   ],
   "source": [
    "# Single Inheritance\n",
    "\n",
    "# Parent class\n",
    "class Car:\n",
    "    def __init__(self,windows,doors,enginetype):\n",
    "        self.windows=windows\n",
    "        self.doors=doors\n",
    "        self.enginetype=enginetype\n",
    "    \n",
    "    def drive(self):\n",
    "        print(f\"The {self.enginetype} car can be driven\")\n",
    "\n",
    "# child class\n",
    "class Tesla(Car):\n",
    "    def __init__(self, windows, doors, enginetype,is_selfdriving):\n",
    "        super().__init__(windows, doors, enginetype)   # using super() tesla child class inherits all the attributes and methods of car parent class\n",
    "        self.is_selfdriving=is_selfdriving\n",
    "        \n",
    "    def selfdrive(self):\n",
    "        print(f\"Tesla can self drive:{self.is_selfdriving}\")\n",
    "    \n",
    "# object creation\n",
    "car1 = Car(4,4,'diesel')\n",
    "print(car1.windows)\n",
    "car1.drive()"
   ]
  },
  {
   "cell_type": "code",
   "execution_count": 9,
   "metadata": {},
   "outputs": [
    {
     "name": "stdout",
     "output_type": "stream",
     "text": [
      "The electric car can be driven\n",
      "4\n",
      "Tesla can self drive:True\n"
     ]
    }
   ],
   "source": [
    "# object creation for child class\n",
    "Tesla1 = Tesla(4,4,'electric',True)\n",
    "Tesla1.drive()\n",
    "print(Tesla1.doors)\n",
    "Tesla1.selfdrive()"
   ]
  },
  {
   "cell_type": "code",
   "execution_count": 25,
   "metadata": {},
   "outputs": [
    {
     "name": "stdout",
     "output_type": "stream",
     "text": [
      "Lucy barks\n",
      "Lucy can speak\n",
      "Ishika\n",
      "Ishika is the owner of Lucy and Lucy barks\n"
     ]
    }
   ],
   "source": [
    "# Multiple Inheritance\n",
    "\n",
    "# one class inherits properties from multiple different classes\n",
    "\n",
    "class Animal:\n",
    "    def __init__(self,name):\n",
    "        self.name = name\n",
    "    def speak(self):\n",
    "        print(f\"{self.name} can speak\")\n",
    "\n",
    "class Pet:\n",
    "    def __init__(self,owner):\n",
    "        self.owner = owner\n",
    "\n",
    "#Derived class\n",
    "class Dog(Animal,Pet):\n",
    "    def __init__(self, name,owner):\n",
    "        Animal.__init__(self,name)\n",
    "        Pet.__init__(self,owner)\n",
    "\n",
    "    def speak(self):\n",
    "        return f\"{self.name} barks\"\n",
    "\n",
    "# object creation\n",
    "dog = Dog(\"Lucy\",\"Ishika\")\n",
    "\n",
    "print(dog.speak())  # speak() of Dog class is called\n",
    "Animal.speak(dog)  # speak() of animal class is called\n",
    "print(dog.owner)\n",
    "print(f\"{dog.owner} is the owner of {dog.name} and\",dog.speak())\n"
   ]
  },
  {
   "cell_type": "code",
   "execution_count": null,
   "metadata": {},
   "outputs": [],
   "source": []
  }
 ],
 "metadata": {
  "kernelspec": {
   "display_name": "venv",
   "language": "python",
   "name": "python3"
  },
  "language_info": {
   "codemirror_mode": {
    "name": "ipython",
    "version": 3
   },
   "file_extension": ".py",
   "mimetype": "text/x-python",
   "name": "python",
   "nbconvert_exporter": "python",
   "pygments_lexer": "ipython3",
   "version": "3.12.7"
  }
 },
 "nbformat": 4,
 "nbformat_minor": 2
}
