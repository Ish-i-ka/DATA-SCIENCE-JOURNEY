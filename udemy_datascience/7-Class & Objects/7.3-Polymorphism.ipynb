{
 "cells": [
  {
   "cell_type": "code",
   "execution_count": 3,
   "metadata": {},
   "outputs": [
    {
     "name": "stdout",
     "output_type": "stream",
     "text": [
      "Meow!\n",
      "Woof!\n"
     ]
    }
   ],
   "source": [
    "# Method Overriding\n",
    "# a derived class has the same named method as a result the method definition in child class over rides the method definition in parent class\n",
    "class Animal:\n",
    "    def speak(self):\n",
    "        print(\"Animal makes a sound\")\n",
    "# Derived class1\n",
    "class Dog(Animal):\n",
    "    def speak(self):\n",
    "        print(\"Woof!\")\n",
    "        \n",
    "# Derived class 2\n",
    "class Cat(Animal):\n",
    "    def speak(self):\n",
    "        print(\"Meow!\")\n",
    "        \n",
    "# objects\n",
    "dog = Dog()\n",
    "cat = Cat()\n",
    "cat.speak()\n",
    "dog.speak()"
   ]
  },
  {
   "cell_type": "code",
   "execution_count": 8,
   "metadata": {},
   "outputs": [
    {
     "name": "stdout",
     "output_type": "stream",
     "text": [
      "Meow!\n"
     ]
    }
   ],
   "source": [
    "# Function demonstrating Polymorphism implementation\n",
    "\n",
    "def animal_speak(animal):\n",
    "    return animal.speak()\n",
    "    \n",
    "animal_speak(cat)"
   ]
  },
  {
   "cell_type": "code",
   "execution_count": 11,
   "metadata": {},
   "outputs": [
    {
     "name": "stdout",
     "output_type": "stream",
     "text": [
      "Area of shape is 50.24\n",
      "Area of shape is 6\n"
     ]
    }
   ],
   "source": [
    "class Shape:\n",
    "    def area(self):\n",
    "        print(\"We are inside the parent class Shape\")\n",
    "\n",
    "class Rectangle(Shape):\n",
    "    def __init__(self,length,breadth):\n",
    "        self.length = length\n",
    "        self.breadth = breadth\n",
    "    def area(self):\n",
    "        return self.length * self.breadth\n",
    "\n",
    "class Circle(Shape):\n",
    "    def __init__(self,r):\n",
    "        self.r = r\n",
    "    def area(self):\n",
    "        return 3.14*self.r*self.r\n",
    "    \n",
    "#Function implementing polymorphism\n",
    "def area_shape(shape):\n",
    "    print(f\"Area of shape is {shape.area()}\")\n",
    "    \n",
    "#objects\n",
    "circ = Circle(4)\n",
    "rec = Rectangle(2,3)\n",
    "\n",
    "area_shape(circ)\n",
    "area_shape(rec)\n"
   ]
  },
  {
   "cell_type": "code",
   "execution_count": 17,
   "metadata": {},
   "outputs": [
    {
     "name": "stdout",
     "output_type": "stream",
     "text": [
      "The bus engine has started now\n"
     ]
    }
   ],
   "source": [
    "# Polymorphism with ABSTRACT BASE CLASSES\n",
    "\n",
    "from abc import ABC,abstractmethod\n",
    "\n",
    "#defining abstract class\n",
    "class Vehicle(ABC):\n",
    "    @abstractmethod\n",
    "    def start_engine(self):\n",
    "        pass\n",
    "    \n",
    "#Derived class\n",
    "class Bus(Vehicle):\n",
    "    def start_engine(self):\n",
    "        print(\"The bus engine has started now\")\n",
    "class Bike(Vehicle):\n",
    "    def start_engine(self):\n",
    "        print(\"The bike engine has started now\")\n",
    "        \n",
    "        \n",
    "#Function demonstrating polymorphism\n",
    "def start_vehicle(vehicle):\n",
    "    return(vehicle.start_engine())\n",
    "#objects\n",
    "bike = Bike()\n",
    "bus = Bus()\n",
    "start_vehicle(bus)"
   ]
  },
  {
   "cell_type": "code",
   "execution_count": null,
   "metadata": {},
   "outputs": [],
   "source": []
  },
  {
   "cell_type": "code",
   "execution_count": null,
   "metadata": {},
   "outputs": [],
   "source": []
  },
  {
   "cell_type": "code",
   "execution_count": null,
   "metadata": {},
   "outputs": [],
   "source": []
  }
 ],
 "metadata": {
  "kernelspec": {
   "display_name": "venv",
   "language": "python",
   "name": "python3"
  },
  "language_info": {
   "codemirror_mode": {
    "name": "ipython",
    "version": 3
   },
   "file_extension": ".py",
   "mimetype": "text/x-python",
   "name": "python",
   "nbconvert_exporter": "python",
   "pygments_lexer": "ipython3",
   "version": "3.12.7"
  }
 },
 "nbformat": 4,
 "nbformat_minor": 2
}
