{
 "cells": [
  {
   "cell_type": "markdown",
   "metadata": {},
   "source": [
    "# Module: Classes and Objects Assignments\n",
    "## Lesson: Creating and Working with Classes and Objects\n",
    "### Assignment 1: Basic Class and Object Creation\n",
    "\n",
    "Create a class named `Car` with attributes `make`, `model`, and `year`. Create an object of the class and print its attributes.\n",
    "\n",
    "### Assignment 2: Methods in Class\n",
    "\n",
    "Add a method named `start_engine` to the `Car` class that prints a message when the engine starts. Create an object of the class and call the method.\n",
    "\n",
    "### Assignment 3: Class with Constructor\n",
    "\n",
    "Create a class named `Student` with attributes `name` and `age`. Use a constructor to initialize these attributes. Create an object of the class and print its attributes.\n",
    "\n",
    "### Assignment 4: Class with Private Attributes\n",
    "\n",
    "Create a class named `BankAccount` with private attributes `account_number` and `balance`. Add methods to deposit and withdraw money, and to check the balance. Create an object of the class and perform some operations.\n",
    "\n",
    "### Assignment 5: Class Inheritance\n",
    "\n",
    "Create a base class named `Person` with attributes `name` and `age`. Create a derived class named `Employee` that inherits from `Person` and adds an attribute `employee_id`. Create an object of the derived class and print its attributes.\n",
    "\n",
    "### Assignment 6: Method Overriding\n",
    "\n",
    "In the `Employee` class, override the `__str__` method to return a string representation of the object. Create an object of the class and print it.\n",
    "\n",
    "### Assignment 7: Class Composition\n",
    "\n",
    "Create a class named `Address` with attributes `street`, `city`, and `zipcode`. Create a class named `Person` that has an `Address` object as an attribute. Create an object of the `Person` class and print its address.\n",
    "\n",
    "### Assignment 8: Class with Class Variables\n",
    "\n",
    "Create a class named `Counter` with a class variable `count`. Each time an object is created, increment the count. Add a method to get the current count. Create multiple objects and print the count.\n",
    "\n",
    "### Assignment 9: Static Methods\n",
    "\n",
    "Create a class named `MathOperations` with a static method to calculate the square root of a number. Call the static method without creating an object.\n",
    "\n",
    "### Assignment 10: Class with Properties\n",
    "\n",
    "Create a class named `Rectangle` with private attributes `length` and `width`. Use properties to get and set these attributes. Create an object of the class and test the properties.\n",
    "\n",
    "### Assignment 11: Abstract Base Class\n",
    "\n",
    "Create an abstract base class named `Shape` with an abstract method `area`. Create derived classes `Circle` and `Square` that implement the `area` method. Create objects of the derived classes and call the `area` method.\n",
    "\n",
    "### Assignment 12: Operator Overloading\n",
    "\n",
    "Create a class named `Vector` with attributes `x` and `y`. Overload the `+` operator to add two `Vector` objects. Create objects of the class and test the operator overloading.\n",
    "\n",
    "### Assignment 13: Class with Custom Exception\n",
    "\n",
    "Create a custom exception named `InsufficientBalanceError`. In the `BankAccount` class, raise this exception when a withdrawal amount is greater than the balance. Handle the exception and print an appropriate message.\n",
    "\n",
    "### Assignment 14: Class with Context Manager\n",
    "\n",
    "Create a class named `FileManager` that implements the context manager protocol to open and close a file. Use this class to read the contents of a file.\n",
    "\n",
    "### Assignment 15: Chaining Methods\n",
    "\n",
    "Create a class named `Calculator` with methods to add, subtract, multiply, and divide. Each method should return the object itself to allow method chaining. Create an object and chain multiple method calls."
   ]
  },
  {
   "cell_type": "code",
   "execution_count": 2,
   "metadata": {},
   "outputs": [
    {
     "name": "stdout",
     "output_type": "stream",
     "text": [
      "Raju\n",
      "12\n"
     ]
    }
   ],
   "source": [
    "# Assignment 3: Class with Constructor\n",
    "\n",
    "'''Create a class named `Student` with attributes `name` and `age`. Use a constructor to initialize these attributes.\n",
    "Create an object of the class and print its attributes.'''\n",
    "\n",
    "class Student:\n",
    "    def __init__(self,name,age):\n",
    "        self.name=name\n",
    "        self.age=age\n",
    "    \n",
    "student1 = Student(\"Raju\",12)\n",
    "print(student1.name)\n",
    "print(student1.age)"
   ]
  },
  {
   "cell_type": "code",
   "execution_count": 10,
   "id": "0344bd9c",
   "metadata": {},
   "outputs": [
    {
     "name": "stdout",
     "output_type": "stream",
     "text": [
      "The current count of <__main__.Counter object at 0x000001E7578DD820> is pen\n",
      "None\n"
     ]
    }
   ],
   "source": [
    "'''Assignment 8: Class with Class Variables\n",
    "\n",
    "Create a class named `Counter` with a class variable `count`. Each time an object is created, increment the count.\n",
    "Add a method to get the current count. Create multiple objects and print the count.'''\n",
    "\n",
    "class Counter:\n",
    "    def __init__(self,count=0):\n",
    "        self.count = count\n",
    "        \n",
    "    def get_count(self,count):\n",
    "        print(f\"The current count of {self} is {self.count}\")\n",
    "\n",
    "# object creation\n",
    "count=0\n",
    "obj1 = Counter(\"pen\")\n",
    "count = count+1\n",
    "print(obj1.get_count(count))"
   ]
  },
  {
   "cell_type": "code",
   "execution_count": 12,
   "id": "a969ba65",
   "metadata": {},
   "outputs": [
    {
     "name": "stdout",
     "output_type": "stream",
     "text": [
      "Ishika Saha\n",
      "20\n",
      "801A23\n"
     ]
    }
   ],
   "source": [
    "'''Assignment 5: Class Inheritance\n",
    "\n",
    "Create a base class named `Person` with attributes `name` and `age`.\n",
    "Create a derived class named `Employee` that inherits from `Person` and adds an attribute `employee_id`.\n",
    "Create an object of the derived class and print its attributes.'''\n",
    "\n",
    "#Base class\n",
    "class Person:\n",
    "    def __init__(self,name,age):\n",
    "        self.name = name\n",
    "        self.age = age\n",
    "    \n",
    "#Derived Class\n",
    "class Employee(Person):\n",
    "    def __init__(self,name,age,employee_id):\n",
    "        super().__init__(name,age)\n",
    "        self.employee_id = employee_id\n",
    "\n",
    "#Object\n",
    "emp = Employee(\"Ishika Saha\",20,\"801A23\")\n",
    "print(emp.name)\n",
    "print(emp.age)\n",
    "print(emp.employee_id)"
   ]
  },
  {
   "cell_type": "code",
   "execution_count": 19,
   "id": "1535080b",
   "metadata": {},
   "outputs": [
    {
     "name": "stdout",
     "output_type": "stream",
     "text": [
      "Poddar nagar Kolkata 700061\n",
      "Ishika\n"
     ]
    }
   ],
   "source": [
    "'''Assignment 7: Class Composition\n",
    "\n",
    "Create a class named `Address` with attributes `street`, `city`, and `zipcode`.\n",
    "Create a class named `Person` that has an `Address` object as an attribute.\n",
    "Create an object of the `Person` class and print its address.'''\n",
    "\n",
    "class Address:\n",
    "    def __init__(self,street,city,zipcode):\n",
    "        self.street=street\n",
    "        self.city=city\n",
    "        self.zipcode=zipcode\n",
    "class Person:\n",
    "    def __init__(self,name,Address):\n",
    "        self.name = name\n",
    "        self.Address = Address\n",
    "# object\n",
    "address = Address(\"Poddar nagar\",\"Kolkata\",700061)\n",
    "person = Person('Ishika',address)\n",
    "print(person.Address.street,person.Address.city,person.Address.zipcode)\n",
    "print(person.name)"
   ]
  },
  {
   "cell_type": "code",
   "execution_count": 3,
   "id": "a29b52bc",
   "metadata": {},
   "outputs": [
    {
     "name": "stdout",
     "output_type": "stream",
     "text": [
      "Ishika\n"
     ]
    }
   ],
   "source": [
    "# Assignment 6: Method Overriding\n",
    "\n",
    "'''In the `Employee` class, override the `__str__` method to return a string representation of the object.\n",
    "Create an object of the class and print it.'''\n",
    "\n",
    "class Employee:\n",
    "    def __init__(self,str):\n",
    "       self.str = str\n",
    "        \n",
    "    def __str__(self):\n",
    "        print(f\"The string is in Parent class\")\n",
    "        \n",
    "class Staff(Employee):\n",
    "    def __init__(self, str):\n",
    "        super().__init__(str)\n",
    "        \n",
    "    def __str__(self):\n",
    "        return self.str\n",
    "    \n",
    "#object\n",
    "staff = Staff(\"Ishika\")\n",
    "print(staff.str)\n",
    "        "
   ]
  },
  {
   "cell_type": "code",
   "execution_count": null,
   "id": "91e3b9e5",
   "metadata": {},
   "outputs": [],
   "source": []
  }
 ],
 "metadata": {
  "kernelspec": {
   "display_name": "venv",
   "language": "python",
   "name": "python3"
  },
  "language_info": {
   "codemirror_mode": {
    "name": "ipython",
    "version": 3
   },
   "file_extension": ".py",
   "mimetype": "text/x-python",
   "name": "python",
   "nbconvert_exporter": "python",
   "pygments_lexer": "ipython3",
   "version": "3.12.7"
  }
 },
 "nbformat": 4,
 "nbformat_minor": 5
}
