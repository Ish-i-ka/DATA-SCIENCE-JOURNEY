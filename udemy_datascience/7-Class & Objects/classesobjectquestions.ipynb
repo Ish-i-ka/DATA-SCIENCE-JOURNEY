{
 "cells": [
  {
   "cell_type": "markdown",
   "metadata": {},
   "source": [
    "# Module: Classes and Objects Assignments\n",
    "## Lesson: Creating and Working with Classes and Objects\n",
    "### Assignment 1: Basic Class and Object Creation\n",
    "\n",
    "Create a class named `Car` with attributes `make`, `model`, and `year`. Create an object of the class and print its attributes.\n",
    "\n",
    "### Assignment 2: Methods in Class\n",
    "\n",
    "Add a method named `start_engine` to the `Car` class that prints a message when the engine starts. Create an object of the class and call the method.\n",
    "\n",
    "### Assignment 3: Class with Constructor\n",
    "\n",
    "Create a class named `Student` with attributes `name` and `age`. Use a constructor to initialize these attributes. Create an object of the class and print its attributes.\n",
    "\n",
    "### Assignment 4: Class with Private Attributes\n",
    "\n",
    "Create a class named `BankAccount` with private attributes `account_number` and `balance`. Add methods to deposit and withdraw money, and to check the balance. Create an object of the class and perform some operations.\n",
    "\n",
    "### Assignment 5: Class Inheritance\n",
    "\n",
    "Create a base class named `Person` with attributes `name` and `age`. Create a derived class named `Employee` that inherits from `Person` and adds an attribute `employee_id`. Create an object of the derived class and print its attributes.\n",
    "\n",
    "### Assignment 6: Method Overriding\n",
    "\n",
    "In the `Employee` class, override the `__str__` method to return a string representation of the object. Create an object of the class and print it.\n",
    "\n",
    "### Assignment 7: Class Composition\n",
    "\n",
    "Create a class named `Address` with attributes `street`, `city`, and `zipcode`. Create a class named `Person` that has an `Address` object as an attribute. Create an object of the `Person` class and print its address.\n",
    "\n",
    "### Assignment 8: Class with Class Variables\n",
    "\n",
    "Create a class named `Counter` with a class variable `count`. Each time an object is created, increment the count. Add a method to get the current count. Create multiple objects and print the count.\n",
    "\n",
    "### Assignment 9: Static Methods\n",
    "\n",
    "Create a class named `MathOperations` with a static method to calculate the square root of a number. Call the static method without creating an object.\n",
    "\n",
    "### Assignment 10: Class with Properties\n",
    "\n",
    "Create a class named `Rectangle` with private attributes `length` and `width`. Use properties to get and set these attributes. Create an object of the class and test the properties.\n",
    "\n",
    "### Assignment 11: Abstract Base Class\n",
    "\n",
    "Create an abstract base class named `Shape` with an abstract method `area`. Create derived classes `Circle` and `Square` that implement the `area` method. Create objects of the derived classes and call the `area` method.\n",
    "\n",
    "### Assignment 12: Operator Overloading\n",
    "\n",
    "Create a class named `Vector` with attributes `x` and `y`. Overload the `+` operator to add two `Vector` objects. Create objects of the class and test the operator overloading.\n",
    "\n",
    "### Assignment 13: Class with Custom Exception\n",
    "\n",
    "Create a custom exception named `InsufficientBalanceError`. In the `BankAccount` class, raise this exception when a withdrawal amount is greater than the balance. Handle the exception and print an appropriate message.\n",
    "\n",
    "### Assignment 14: Class with Context Manager\n",
    "\n",
    "Create a class named `FileManager` that implements the context manager protocol to open and close a file. Use this class to read the contents of a file.\n",
    "\n",
    "### Assignment 15: Chaining Methods\n",
    "\n",
    "Create a class named `Calculator` with methods to add, subtract, multiply, and divide. Each method should return the object itself to allow method chaining. Create an object and chain multiple method calls."
   ]
  },
  {
   "cell_type": "code",
   "execution_count": 2,
   "metadata": {},
   "outputs": [
    {
     "name": "stdout",
     "output_type": "stream",
     "text": [
      "Raju\n",
      "12\n"
     ]
    }
   ],
   "source": [
    "# Assignment 3: Class with Constructor\n",
    "\n",
    "'''Create a class named `Student` with attributes `name` and `age`. Use a constructor to initialize these attributes.\n",
    "Create an object of the class and print its attributes.'''\n",
    "\n",
    "class Student:\n",
    "    def __init__(self,name,age):\n",
    "        self.name=name\n",
    "        self.age=age\n",
    "    \n",
    "student1 = Student(\"Raju\",12)\n",
    "print(student1.name)\n",
    "print(student1.age)"
   ]
  },
  {
   "cell_type": "code",
   "execution_count": 21,
   "id": "0344bd9c",
   "metadata": {},
   "outputs": [
    {
     "name": "stdout",
     "output_type": "stream",
     "text": [
      "The current count of Counter is 3\n"
     ]
    }
   ],
   "source": [
    "'''Assignment 8: Class with Class Variables\n",
    "\n",
    "Create a class named `Counter` with a class variable `count`. Each time an object is created, increment the count.\n",
    "Add a method to get the current count. Create multiple objects and print the count.'''\n",
    "\n",
    "class Counter:\n",
    "    count = 0\n",
    "    def __init__(self):\n",
    "        Counter.count+=1\n",
    "        \n",
    "    def get_count(self):\n",
    "        print(f\"The current count of Counter is {Counter.count}\")\n",
    "\n",
    "# object creation\n",
    "obj1 = Counter()\n",
    "obj2 = Counter()\n",
    "obj3 = Counter()\n",
    "#count = count+1\n",
    "Counter.get_count(obj2)"
   ]
  },
  {
   "cell_type": "code",
   "execution_count": 12,
   "id": "a969ba65",
   "metadata": {},
   "outputs": [
    {
     "name": "stdout",
     "output_type": "stream",
     "text": [
      "Ishika Saha\n",
      "20\n",
      "801A23\n"
     ]
    }
   ],
   "source": [
    "'''Assignment 5: Class Inheritance\n",
    "\n",
    "Create a base class named `Person` with attributes `name` and `age`.\n",
    "Create a derived class named `Employee` that inherits from `Person` and adds an attribute `employee_id`.\n",
    "Create an object of the derived class and print its attributes.'''\n",
    "\n",
    "#Base class\n",
    "class Person:\n",
    "    def __init__(self,name,age):\n",
    "        self.name = name\n",
    "        self.age = age\n",
    "    \n",
    "#Derived Class\n",
    "class Employee(Person):\n",
    "    def __init__(self,name,age,employee_id):\n",
    "        super().__init__(name,age)\n",
    "        self.employee_id = employee_id\n",
    "\n",
    "#Object\n",
    "emp = Employee(\"Ishika Saha\",20,\"801A23\")\n",
    "print(emp.name)\n",
    "print(emp.age)\n",
    "print(emp.employee_id)"
   ]
  },
  {
   "cell_type": "code",
   "execution_count": 19,
   "id": "1535080b",
   "metadata": {},
   "outputs": [
    {
     "name": "stdout",
     "output_type": "stream",
     "text": [
      "Poddar nagar Kolkata 700061\n",
      "Ishika\n"
     ]
    }
   ],
   "source": [
    "'''Assignment 7: Class Composition\n",
    "\n",
    "Create a class named `Address` with attributes `street`, `city`, and `zipcode`.\n",
    "Create a class named `Person` that has an `Address` object as an attribute.\n",
    "Create an object of the `Person` class and print its address.'''\n",
    "\n",
    "class Address:\n",
    "    def __init__(self,street,city,zipcode):\n",
    "        self.street=street\n",
    "        self.city=city\n",
    "        self.zipcode=zipcode\n",
    "class Person:\n",
    "    def __init__(self,name,Address):\n",
    "        self.name = name\n",
    "        self.Address = Address\n",
    "# object\n",
    "address = Address(\"Poddar nagar\",\"Kolkata\",700061)\n",
    "person = Person('Ishika',address)\n",
    "print(person.Address.street,person.Address.city,person.Address.zipcode)\n",
    "print(person.name)"
   ]
  },
  {
   "cell_type": "code",
   "execution_count": 5,
   "id": "a29b52bc",
   "metadata": {},
   "outputs": [
    {
     "name": "stdout",
     "output_type": "stream",
     "text": [
      "Ishika is 21 years old\n"
     ]
    }
   ],
   "source": [
    "# Assignment 6: Method Overriding\n",
    "\n",
    "'''In the `Employee` class, override the `__str__` method to return a string representation of the object.\n",
    "Create an object of the class and print it.'''\n",
    "\n",
    "class Person:\n",
    "    def __init__(self,name,age):\n",
    "       self.name = name\n",
    "       self.age = age\n",
    "        \n",
    "    def get_name(self):\n",
    "        print(f\"{self.name}\")\n",
    "        \n",
    "    def get_age(self):\n",
    "        print(f\"{self.age}\")\n",
    "        \n",
    "class Employee(Person):\n",
    "    def __init__(self, name,age,emp_id):\n",
    "        super().__init__(name,age)\n",
    "        self.emp_id = emp_id\n",
    "        \n",
    "    def __str__(self):\n",
    "        return f\"{self. name} is {self.age} years old\"\n",
    "    \n",
    "#object\n",
    "emp1 = Employee(\"Ishika\",21,\"Eas7\")\n",
    "print(emp1.__str__())\n",
    "        "
   ]
  },
  {
   "cell_type": "code",
   "execution_count": 7,
   "id": "d63df7ac",
   "metadata": {},
   "outputs": [
    {
     "name": "stdout",
     "output_type": "stream",
     "text": [
      "16 is area of square\n",
      "78.5 is area of circle.\n"
     ]
    }
   ],
   "source": [
    "# Assignment 11: Abstract Base Class\n",
    "\n",
    "'''Create an abstract base class named `Shape` with an abstract method `area`.\n",
    "Create derived classes `Circle` and `Square` that implement the `area` method.\n",
    "Create objects of the derived classes and call the `area` method.'''\n",
    "\n",
    "from abc import ABC,abstractmethod\n",
    "\n",
    "#abstract class\n",
    "class Shape(ABC):\n",
    "    @abstractmethod\n",
    "    def area(self):\n",
    "        pass\n",
    "   \n",
    "#derived class1\n",
    "class Circle(Shape):\n",
    "    def __init__(self,radius):\n",
    "         self.radius = radius\n",
    "         \n",
    "    def area(self):\n",
    "        print(f\"{3.14 * self.radius * self.radius} is area of circle.\")\n",
    "\n",
    "#derived class2\n",
    "class Square(Shape):\n",
    "    def __init__(self,side):\n",
    "         self.side = side    \n",
    "             \n",
    "    def area(self):\n",
    "        print(f\"{self.side * self.side} is area of square\")\n",
    "        \n",
    "#objects\n",
    "circ = Circle(5)\n",
    "square = Square(4)\n",
    "square.area()\n",
    "circ.area()\n",
    "        "
   ]
  },
  {
   "cell_type": "code",
   "execution_count": 29,
   "id": "214d4fea",
   "metadata": {},
   "outputs": [
    {
     "name": "stdout",
     "output_type": "stream",
     "text": [
      "Vector(6,8)\n"
     ]
    }
   ],
   "source": [
    "# Assignment 12: Operator Overloading\n",
    "\n",
    "'''Create a class named `Vector` with attributes `x` and `y`.\n",
    "Overload the `+` operator to add two `Vector` objects. Create objects of the class and test the operator overloading.''' \n",
    "\n",
    "class Vector:\n",
    "    def __init__(self,x,y):\n",
    "       self.x = x\n",
    "       self.y = y\n",
    "    #def __add__(self,other):\n",
    "        #return f\"Vector({self.x+other.x},{self.y+other.y})\"\n",
    "    \n",
    "    def __add__(self,other):\n",
    "        return Vector(self.x+other.x, self.y+other.y)\n",
    "    \n",
    "    def __str__(self):\n",
    "        return f\"Vector({self.x},{self.y})\"\n",
    "    \n",
    "v1 = Vector(2,3)\n",
    "v2 = Vector(4,5)\n",
    "v3 = v1+v2\n",
    "print(v3)"
   ]
  },
  {
   "cell_type": "code",
   "execution_count": 10,
   "id": "86f253ed",
   "metadata": {},
   "outputs": [
    {
     "name": "stdout",
     "output_type": "stream",
     "text": [
      "100 withdrawn and current balance: 400\n"
     ]
    }
   ],
   "source": [
    "# Assignment 13: Class with Custom Exception\n",
    "\n",
    "'''Create a custom exception named `InsufficientBalanceError`.\n",
    "In the `BankAccount` class, raise this exception when a withdrawal amount is greater than the balance.\n",
    "Handle the exception and print an appropriate message.''' \n",
    "\n",
    "class Error(Exception):\n",
    "    pass\n",
    "class InsufficientBalanceError(Error):\n",
    "    pass\n",
    "\n",
    "class BankAccount:\n",
    "    def __init__(self,balance):\n",
    "            self.balance = balance\n",
    "    def deposit(self,amount):\n",
    "            self.balance += amount\n",
    "            print(f\"{amount} deposited and current balance: {self.balance}\")\n",
    "    def withdraw(self,amount):\n",
    "        try:    \n",
    "            if amount < self.balance:\n",
    "                self.balance -= amount\n",
    "                print(f\"{amount} withdrawn and current balance: {self.balance}\")\n",
    "            else:\n",
    "                raise InsufficientBalanceError     \n",
    "                \n",
    "        except InsufficientBalanceError:\n",
    "            print(\"You dont have sufficient Funds!!\")\n",
    "\n",
    "# object\n",
    "account = BankAccount(500)\n",
    "\n",
    "bal = int(input(\"Enter amount to withdraw:\"))\n",
    "account.withdraw(bal)"
   ]
  },
  {
   "cell_type": "code",
   "execution_count": null,
   "id": "4fade66d",
   "metadata": {},
   "outputs": [],
   "source": []
  },
  {
   "cell_type": "code",
   "execution_count": null,
   "id": "91e3b9e5",
   "metadata": {},
   "outputs": [],
   "source": []
  }
 ],
 "metadata": {
  "kernelspec": {
   "display_name": "venv",
   "language": "python",
   "name": "python3"
  },
  "language_info": {
   "codemirror_mode": {
    "name": "ipython",
    "version": 3
   },
   "file_extension": ".py",
   "mimetype": "text/x-python",
   "name": "python",
   "nbconvert_exporter": "python",
   "pygments_lexer": "ipython3",
   "version": "3.12.7"
  }
 },
 "nbformat": 4,
 "nbformat_minor": 5
}
