{
 "cells": [
  {
   "cell_type": "code",
   "execution_count": null,
   "metadata": {},
   "outputs": [],
   "source": [
    "  ## Common Operator Overloading Magic methods\n",
    "  \n",
    "'''\n",
    "__add__(self,other): Adds two objects(+)\n",
    "__sub__(self,other): Subtracts two objects(-)\n",
    "__mul__(self,other): Multiplies two objects(*)\n",
    "__truediv__(self,other): Divides two objects (/)\n",
    "__eq__(self,other): Checks whether two objects are equal or not(==)\n",
    "__lt__(self,other): Checks if one obj is less than the other using <\n",
    "__gt__(self,other): Checks if one obj is greater than the other obj using >\n",
    "'''"
   ]
  },
  {
   "cell_type": "code",
   "execution_count": 13,
   "metadata": {},
   "outputs": [
    {
     "name": "stdout",
     "output_type": "stream",
     "text": [
      "(6, 5)\n",
      "(-2, 1)\n",
      "(6, 9)\n",
      "False\n"
     ]
    }
   ],
   "source": [
    "## Mathematical operations on Vector\n",
    "\n",
    "class Vector:\n",
    "    def __init__(self,x,y):\n",
    "        self.x = x\n",
    "        self.y = y \n",
    "    def __add__(self,other):\n",
    "        return self.x + other.x ,self.y + other.y\n",
    "    \n",
    "    def __sub__(self,other):\n",
    "        return self.x - other.x ,self.y - other.y\n",
    "    \n",
    "    def __mul__(self,other):\n",
    "        return self.x * other ,self.y * other\n",
    "    \n",
    "    def __eq__(self,other):\n",
    "        return self.x == other.x and self.y == other.y\n",
    "    \n",
    "    def __repr__(self):\n",
    "       return f\"Vector({self.x}, {self.y})\"\n",
    "\n",
    "v1 = Vector(2,3)\n",
    "v2 = Vector(4,2)\n",
    "\n",
    "print(v1+v2)\n",
    "print(v1-v2)\n",
    "print(v1*3)\n",
    "print(v1 == v2)"
   ]
  },
  {
   "cell_type": "code",
   "execution_count": 11,
   "metadata": {},
   "outputs": [
    {
     "name": "stdout",
     "output_type": "stream",
     "text": [
      "-1 + 18i\n",
      "6 + 6i\n",
      "-2 + 0i\n",
      "0.68 + 0.24i\n",
      "False\n"
     ]
    }
   ],
   "source": [
    "## Overloading operators for complex numbers\n",
    "\n",
    "class Complex:\n",
    "    def __init__(self,x,y):\n",
    "        self.x = x\n",
    "        self.y = y \n",
    "        \n",
    "    def __add__(self,other):\n",
    "        return Complex(self.x + other.x , self.y + other.y)\n",
    "    \n",
    "    def __sub__(self,other):\n",
    "        return Complex(self.x - other.x , self.y - other.y)\n",
    "    \n",
    "    def __mul__(self,other):\n",
    "        real = self.x * other.x - self.y * other.y\n",
    "        imag = self.x * other.y + self.y * other.x\n",
    "        return Complex(real,imag)\n",
    "    \n",
    "    def __truediv__(self,other):\n",
    "        denominator = other.x ** 2 + other.y ** 2\n",
    "        real = (self.x * other.x + self.y * other.y)/denominator\n",
    "        imag = (self.y * other.x - self.x * other.y)/denominator\n",
    "        return Complex(real,imag)\n",
    "    \n",
    "    def __repr__(self):\n",
    "        return f\"{self.x} + {self.y}i\"\n",
    "    \n",
    "c1 = Complex(2,3)\n",
    "c2 = Complex(4,3)\n",
    "\n",
    "print(c1 * c2)\n",
    "print(c1 + c2)\n",
    "print(c1 - c2)\n",
    "print(c1 / c2)\n",
    "print(c1 == c2)\n"
   ]
  },
  {
   "cell_type": "code",
   "execution_count": null,
   "metadata": {},
   "outputs": [],
   "source": []
  }
 ],
 "metadata": {
  "kernelspec": {
   "display_name": "venv",
   "language": "python",
   "name": "python3"
  },
  "language_info": {
   "codemirror_mode": {
    "name": "ipython",
    "version": 3
   },
   "file_extension": ".py",
   "mimetype": "text/x-python",
   "name": "python",
   "nbconvert_exporter": "python",
   "pygments_lexer": "ipython3",
   "version": "3.12.7"
  }
 },
 "nbformat": 4,
 "nbformat_minor": 2
}
