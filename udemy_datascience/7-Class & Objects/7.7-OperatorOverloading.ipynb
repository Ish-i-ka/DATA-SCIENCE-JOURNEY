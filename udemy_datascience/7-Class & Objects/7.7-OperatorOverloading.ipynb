{
 "cells": [
  {
   "cell_type": "code",
   "execution_count": null,
   "metadata": {},
   "outputs": [],
   "source": [
    "  ## Common Operator Overloading Magic methods\n",
    "  \n",
    "'''\n",
    "__add__(self,other): Adds two objects\n",
    "__sub__(self,other): Subtracts two objects\n",
    "__mul__(self,other): Multiplies two objects\n",
    "__truediv__(self,other): Divides two objects (/)\n",
    "__eq__(self,other): Checks whether two objects are equal or not\n",
    "__lt__(self,other): Checks if one obj is less than the other using <\n",
    "__gt__(self,other): Checks if one obj is greater than the other obj using >\n",
    "'''"
   ]
  },
  {
   "cell_type": "code",
   "execution_count": 25,
   "metadata": {},
   "outputs": [
    {
     "name": "stdout",
     "output_type": "stream",
     "text": [
      "(6, 5)\n",
      "(-2, 1)\n",
      "(6, 9)\n",
      "False\n"
     ]
    }
   ],
   "source": [
    "## Mathematical operations on Vector\n",
    "\n",
    "class Vector:\n",
    "    def __init__(self,x,y):\n",
    "        self.x = x\n",
    "        self.y = y \n",
    "    def __add__(self,other):\n",
    "        return self.x + other.x ,self.y + other.y\n",
    "    \n",
    "    def __sub__(self,other):\n",
    "        return self.x - other.x ,self.y - other.y\n",
    "    \n",
    "    def __mul__(self,other):\n",
    "        return self.x * other ,self.y * other\n",
    "    \n",
    "    def __eq__(self,other):\n",
    "        return self.x == other.x and self.y == other.y\n",
    "    \n",
    "    def __repr__(self):\n",
    "       return f\"Vector(({self.x}, {self.y})\"\n",
    "\n",
    "v1 = Vector(2,3)\n",
    "v2 = Vector(4,2)\n",
    "\n",
    "print(v1+v2)\n",
    "print(v1-v2)\n",
    "print(v1*3)\n",
    "print(v1.__eq__(v2))"
   ]
  },
  {
   "cell_type": "code",
   "execution_count": null,
   "metadata": {},
   "outputs": [],
   "source": [
    "## Overloading operators for complex numbers\n",
    "\n"
   ]
  }
 ],
 "metadata": {
  "kernelspec": {
   "display_name": "venv",
   "language": "python",
   "name": "python3"
  },
  "language_info": {
   "codemirror_mode": {
    "name": "ipython",
    "version": 3
   },
   "file_extension": ".py",
   "mimetype": "text/x-python",
   "name": "python",
   "nbconvert_exporter": "python",
   "pygments_lexer": "ipython3",
   "version": "3.12.7"
  }
 },
 "nbformat": 4,
 "nbformat_minor": 2
}
