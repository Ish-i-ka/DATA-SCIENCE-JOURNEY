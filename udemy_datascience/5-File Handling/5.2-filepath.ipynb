{
 "cells": [
  {
   "cell_type": "code",
   "execution_count": 1,
   "metadata": {},
   "outputs": [
    {
     "name": "stdout",
     "output_type": "stream",
     "text": [
      "Current wordking directory is e:\\Github Repositories\\DATA-SCIENCE-JOURNEY\\udemy_datascience\\5-File Handling\n"
     ]
    }
   ],
   "source": [
    "import os\n",
    "cwd = os.getcwd()\n",
    "print(f\"Current wordking directory is {cwd}\")"
   ]
  },
  {
   "cell_type": "code",
   "execution_count": 2,
   "metadata": {},
   "outputs": [
    {
     "name": "stdout",
     "output_type": "stream",
     "text": [
      "Directory 'package' create\n"
     ]
    }
   ],
   "source": [
    "# Create new directory\n",
    "\n",
    "new_directory = \"package\"\n",
    "os.mkdir(new_directory)\n",
    "print(f\"Directory '{new_directory}' create\")"
   ]
  },
  {
   "cell_type": "code",
   "execution_count": 3,
   "metadata": {},
   "outputs": [
    {
     "name": "stdout",
     "output_type": "stream",
     "text": [
      "['5.1-fileoperation.ipynb', '5.2-filepath.ipynb', 'destination.txt', 'example.bin', 'example.txt', 'example1.txt', 'package']\n"
     ]
    }
   ],
   "source": [
    "# Listing files and directories\n",
    "\n",
    "items = os.listdir('.')\n",
    "print(items)"
   ]
  },
  {
   "cell_type": "code",
   "execution_count": 4,
   "metadata": {},
   "outputs": [
    {
     "name": "stdout",
     "output_type": "stream",
     "text": [
      "folder\\file.txt\n"
     ]
    }
   ],
   "source": [
    "# joining paths\n",
    "\n",
    "dir_name = \"folder\"\n",
    "file_name = \"file.txt\"\n",
    "full_path = os.path.join(dir_name,file_name)\n",
    "print(full_path)"
   ]
  },
  {
   "cell_type": "code",
   "execution_count": 5,
   "metadata": {},
   "outputs": [
    {
     "name": "stdout",
     "output_type": "stream",
     "text": [
      "e:\\Github Repositories\\DATA-SCIENCE-JOURNEY\\udemy_datascience\\5-File Handling\\folder\\file.txt\n"
     ]
    }
   ],
   "source": [
    "dir_name = \"folder\"\n",
    "file_name = \"file.txt\"\n",
    "full_path = os.path.join(os.getcwd(),dir_name,file_name)\n",
    "print(full_path)"
   ]
  },
  {
   "cell_type": "code",
   "execution_count": 6,
   "metadata": {},
   "outputs": [
    {
     "name": "stdout",
     "output_type": "stream",
     "text": [
      "The path example2.txt does not exists\n"
     ]
    }
   ],
   "source": [
    "# whether file exists or not\n",
    "\n",
    "path = 'example2.txt'\n",
    "if os.path.exists(path):\n",
    "    print(f\"The path {path} exists\")\n",
    "else:\n",
    "    print(f\"The path {path} does not exists\")"
   ]
  },
  {
   "cell_type": "code",
   "execution_count": 7,
   "metadata": {},
   "outputs": [
    {
     "name": "stdout",
     "output_type": "stream",
     "text": [
      "The path example.txt is a file\n"
     ]
    }
   ],
   "source": [
    "path = 'example.txt'\n",
    "if os.path.isfile(path):\n",
    "    print(f\"The path {path} is a file\")\n",
    "elif os.path.isdir(path):\n",
    "    print(f\"The path {path} is a directory\")\n",
    "else:\n",
    "    print(f\"The path'{path}' is neither a file nor directory\")"
   ]
  },
  {
   "cell_type": "code",
   "execution_count": 8,
   "metadata": {},
   "outputs": [
    {
     "name": "stdout",
     "output_type": "stream",
     "text": [
      "e:\\Github Repositories\\DATA-SCIENCE-JOURNEY\\udemy_datascience\\5-File Handling\\example.txt\n"
     ]
    }
   ],
   "source": [
    "# getting absolute path\n",
    "\n",
    "relative_path = 'example.txt'\n",
    "abs_path = os.path.abspath(relative_path)\n",
    "print(abs_path)"
   ]
  },
  {
   "cell_type": "code",
   "execution_count": null,
   "metadata": {},
   "outputs": [],
   "source": []
  },
  {
   "cell_type": "code",
   "execution_count": null,
   "metadata": {},
   "outputs": [],
   "source": []
  }
 ],
 "metadata": {
  "kernelspec": {
   "display_name": "venv",
   "language": "python",
   "name": "python3"
  },
  "language_info": {
   "codemirror_mode": {
    "name": "ipython",
    "version": 3
   },
   "file_extension": ".py",
   "mimetype": "text/x-python",
   "name": "python",
   "nbconvert_exporter": "python",
   "pygments_lexer": "ipython3",
   "version": "3.12.7"
  }
 },
 "nbformat": 4,
 "nbformat_minor": 2
}
